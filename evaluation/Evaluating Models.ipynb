{
 "cells": [
  {
   "cell_type": "code",
   "execution_count": 1,
   "id": "553aeee1",
   "metadata": {},
   "outputs": [],
   "source": [
    "import pandas as pd\n",
    "import pickle\n",
    "import jsonlines"
   ]
  },
  {
   "cell_type": "code",
   "execution_count": 2,
   "id": "e4812761",
   "metadata": {},
   "outputs": [],
   "source": [
    "from collections import Counter"
   ]
  },
  {
   "cell_type": "code",
   "execution_count": 3,
   "id": "dd9cacde",
   "metadata": {},
   "outputs": [],
   "source": [
    "import ast"
   ]
  },
  {
   "cell_type": "code",
   "execution_count": 4,
   "id": "2f39dffe",
   "metadata": {},
   "outputs": [],
   "source": [
    "import choix\n",
    "from itertools import combinations"
   ]
  },
  {
   "cell_type": "code",
   "execution_count": 5,
   "id": "94956242",
   "metadata": {},
   "outputs": [],
   "source": [
    "from scipy.stats import spearmanr, kendalltau"
   ]
  },
  {
   "cell_type": "code",
   "execution_count": 6,
   "id": "29b9eb7d",
   "metadata": {},
   "outputs": [],
   "source": [
    "import numpy as np"
   ]
  },
  {
   "cell_type": "markdown",
   "id": "56dfaf94",
   "metadata": {},
   "source": [
    "### Load Data"
   ]
  },
  {
   "cell_type": "code",
   "execution_count": 7,
   "id": "bf8fdc5e",
   "metadata": {},
   "outputs": [],
   "source": [
    "all_7b = pd.read_csv(\"7b_pairwise_annotations.csv\")\n",
    "all_7b[\"texts\"] = all_7b[\"texts\"].apply(ast.literal_eval)"
   ]
  },
  {
   "cell_type": "code",
   "execution_count": 8,
   "id": "c407d4d9",
   "metadata": {},
   "outputs": [],
   "source": [
    "all_3b = pd.read_csv(\"3b_pairwise_annotations.csv\")\n",
    "all_3b[\"texts\"] = all_3b[\"texts\"].apply(ast.literal_eval)"
   ]
  },
  {
   "cell_type": "code",
   "execution_count": 9,
   "id": "277caed8",
   "metadata": {},
   "outputs": [],
   "source": [
    "automated_metrics = pd.read_csv(\"./raw_automated_metrics.csv\")"
   ]
  },
  {
   "cell_type": "code",
   "execution_count": 10,
   "id": "7f2fa451",
   "metadata": {},
   "outputs": [],
   "source": [
    "votecols = ['plot', 'character', 'creativity',\n",
    "       'development', 'language', 'overall_quality']"
   ]
  },
  {
   "cell_type": "code",
   "execution_count": 11,
   "id": "7fa00014",
   "metadata": {},
   "outputs": [],
   "source": [
    "genres_we_care_about = ['scifi', 'fantasy', 'romance', 'historical']"
   ]
  },
  {
   "cell_type": "markdown",
   "id": "5e6850d2",
   "metadata": {},
   "source": [
    "# Clean util"
   ]
  },
  {
   "cell_type": "code",
   "execution_count": 12,
   "id": "2ff3b14c",
   "metadata": {},
   "outputs": [],
   "source": [
    "def clean(continuation, withwords=False):\n",
    "    continuation = continuation.split(\"<END_OF_CHAPTER>\")[0].strip()\n",
    "    continuation = continuation.split(\"### END_OF_CHAPTER ###\")[0].strip()\n",
    "    continuation = continuation.split(\"### End of Chapter\")[0].strip()\n",
    "    continuation = continuation.split(\"**To be continued...** \")[0].strip()\n",
    "    continuation = continuation.split(\"---\\n\\nThis chapter\")[0].strip()\n",
    "    lines = continuation.split(\"\\n\\n\")\n",
    "    newlines = []\n",
    "    seen = set()\n",
    "    for l in lines:\n",
    "        if l in seen:\n",
    "            break\n",
    "        seen.add(l)\n",
    "        newlines.append(l)\n",
    "    continuation = \"\\n\\n\".join(newlines)\n",
    "    # super repetitive lines\n",
    "    lines = continuation.split(\"\\n\")\n",
    "    newlines = []\n",
    "    seen = {}\n",
    "    for l in lines:\n",
    "        if len(l.split(\" \")) >= 10 and l in seen:\n",
    "            if seen[l] >= 3:\n",
    "                break\n",
    "        seen[l] = seen.get(l, 0) + 1\n",
    "        newlines.append(l)\n",
    "    continuation = \"\\n\".join(newlines)\n",
    "    \n",
    "    # repeating words\n",
    "    if withwords:\n",
    "        words = continuation.split(\" \")\n",
    "        chunks = {}\n",
    "        newwords = words[:20]\n",
    "        for i in range(20, len(words)):\n",
    "            chunkwords = words[i-20:i]\n",
    "            chunk = \" \".join(chunkwords)\n",
    "            if chunk in chunks:\n",
    "                if chunks[chunk] >= 10:\n",
    "                    # no matter what\n",
    "#                     print('hard cut chunk')\n",
    "#                     print(chunk)\n",
    "                    break\n",
    "                if len(set(chunkwords)) <= 10:\n",
    "#                     print('bad looking chunk')\n",
    "#                     print(chunk)\n",
    "                    break\n",
    "            chunks[chunk] = chunks.get(chunk, 0) + 1\n",
    "            newwords.append(words[i])\n",
    "        continuation = \" \".join(newwords)\n",
    "    return continuation.strip()"
   ]
  },
  {
   "cell_type": "markdown",
   "id": "88a6a587",
   "metadata": {},
   "source": [
    "# Choix util (pairwise win rates, strength, etc.)"
   ]
  },
  {
   "cell_type": "code",
   "execution_count": 13,
   "id": "f9dd8cc1",
   "metadata": {},
   "outputs": [],
   "source": [
    "def get_pairwise_winner_data_params(df, key='overall_quality', options = ['base7b', 'basewr_7b']):\n",
    "    combs = list(combinations(options, r=2))\n",
    "    \n",
    "    data = []\n",
    "    for c in combs:\n",
    "        o1, o2 = c\n",
    "        str_options = \",\".join(sorted([o1,o2]))\n",
    "        sub = df[df['options'] == str_options]\n",
    "        for i, row in sub.iterrows():\n",
    "            winner = row[key]\n",
    "            if winner == 'same':\n",
    "                continue\n",
    "            winner_idx = options.index(winner)\n",
    "            loser = o2 if winner == o1 else o1\n",
    "            loser_idx = options.index(loser)\n",
    "            data.append((winner_idx, loser_idx))\n",
    "            \n",
    "    params = choix.ilsr_pairwise(len(options), data)\n",
    "    return data, params"
   ]
  },
  {
   "cell_type": "markdown",
   "id": "24886069",
   "metadata": {},
   "source": [
    "# Tables"
   ]
  },
  {
   "cell_type": "markdown",
   "id": "9772ea1d",
   "metadata": {},
   "source": [
    "## Preference Probability by Dimension - BT-Probability A wins (A vs B)"
   ]
  },
  {
   "cell_type": "code",
   "execution_count": 16,
   "id": "a6a496f0",
   "metadata": {},
   "outputs": [],
   "source": [
    "def get_preference_data(df, ordered_columns):\n",
    "    all_options = df['options'].unique()\n",
    "    preference_data = []\n",
    "    for key in votecols:\n",
    "        row = [key]\n",
    "        for cur_options in ordered_columns:\n",
    "            all_count = Counter(df[df['options'] == cur_options][key])\n",
    "            compdata, compparams = get_pairwise_winner_data_params(df, key=key, options=cur_options.split(\",\"))\n",
    "\n",
    "            prob_0_wins, prob_1_wins = choix.probabilities([0, 1], compparams)\n",
    "            row.append(prob_0_wins*100)\n",
    "        preference_data.append(row)\n",
    "    pref_df = pd.DataFrame(data=preference_data, columns=[\"Dimension\", *ordered_columns])\n",
    "    return pref_df"
   ]
  },
  {
   "cell_type": "markdown",
   "id": "06cbe8a6",
   "metadata": {},
   "source": [
    "### 7B"
   ]
  },
  {
   "cell_type": "code",
   "execution_count": 17,
   "id": "ae997b0a",
   "metadata": {},
   "outputs": [],
   "source": [
    "columns = ['basesft_7b,base7b', 'basewr_7b,base7b', 'basewr_7b,basesft_7b',\n",
    "       'trained_7b,basesft_7b', 'trained_7b,base7b',\n",
    "       'trained_7b,basewr_7b']"
   ]
  },
  {
   "cell_type": "code",
   "execution_count": 18,
   "id": "96a375a7",
   "metadata": {},
   "outputs": [
    {
     "data": {
      "text/html": [
       "<div>\n",
       "<style scoped>\n",
       "    .dataframe tbody tr th:only-of-type {\n",
       "        vertical-align: middle;\n",
       "    }\n",
       "\n",
       "    .dataframe tbody tr th {\n",
       "        vertical-align: top;\n",
       "    }\n",
       "\n",
       "    .dataframe thead th {\n",
       "        text-align: right;\n",
       "    }\n",
       "</style>\n",
       "<table border=\"1\" class=\"dataframe\">\n",
       "  <thead>\n",
       "    <tr style=\"text-align: right;\">\n",
       "      <th></th>\n",
       "      <th>Dimension</th>\n",
       "      <th>basesft_7b,base7b</th>\n",
       "      <th>basewr_7b,base7b</th>\n",
       "      <th>basewr_7b,basesft_7b</th>\n",
       "      <th>trained_7b,basesft_7b</th>\n",
       "      <th>trained_7b,base7b</th>\n",
       "      <th>trained_7b,basewr_7b</th>\n",
       "    </tr>\n",
       "  </thead>\n",
       "  <tbody>\n",
       "    <tr>\n",
       "      <th>0</th>\n",
       "      <td>plot</td>\n",
       "      <td>5.263158</td>\n",
       "      <td>72.222222</td>\n",
       "      <td>83.333333</td>\n",
       "      <td>89.473684</td>\n",
       "      <td>52.941176</td>\n",
       "      <td>62.500000</td>\n",
       "    </tr>\n",
       "    <tr>\n",
       "      <th>1</th>\n",
       "      <td>character</td>\n",
       "      <td>26.315789</td>\n",
       "      <td>68.750000</td>\n",
       "      <td>84.210526</td>\n",
       "      <td>89.473684</td>\n",
       "      <td>46.666667</td>\n",
       "      <td>61.538462</td>\n",
       "    </tr>\n",
       "    <tr>\n",
       "      <th>2</th>\n",
       "      <td>creativity</td>\n",
       "      <td>21.052632</td>\n",
       "      <td>57.142857</td>\n",
       "      <td>82.352941</td>\n",
       "      <td>84.210526</td>\n",
       "      <td>81.250000</td>\n",
       "      <td>70.588235</td>\n",
       "    </tr>\n",
       "    <tr>\n",
       "      <th>3</th>\n",
       "      <td>development</td>\n",
       "      <td>22.222222</td>\n",
       "      <td>68.750000</td>\n",
       "      <td>88.235294</td>\n",
       "      <td>89.473684</td>\n",
       "      <td>52.941176</td>\n",
       "      <td>66.666667</td>\n",
       "    </tr>\n",
       "    <tr>\n",
       "      <th>4</th>\n",
       "      <td>language</td>\n",
       "      <td>35.000000</td>\n",
       "      <td>66.666667</td>\n",
       "      <td>76.470588</td>\n",
       "      <td>88.888889</td>\n",
       "      <td>80.000000</td>\n",
       "      <td>58.823529</td>\n",
       "    </tr>\n",
       "    <tr>\n",
       "      <th>5</th>\n",
       "      <td>overall_quality</td>\n",
       "      <td>15.000000</td>\n",
       "      <td>66.666667</td>\n",
       "      <td>83.333333</td>\n",
       "      <td>90.000000</td>\n",
       "      <td>76.470588</td>\n",
       "      <td>64.705882</td>\n",
       "    </tr>\n",
       "  </tbody>\n",
       "</table>\n",
       "</div>"
      ],
      "text/plain": [
       "         Dimension  basesft_7b,base7b  basewr_7b,base7b  basewr_7b,basesft_7b  \\\n",
       "0             plot           5.263158         72.222222             83.333333   \n",
       "1        character          26.315789         68.750000             84.210526   \n",
       "2       creativity          21.052632         57.142857             82.352941   \n",
       "3      development          22.222222         68.750000             88.235294   \n",
       "4         language          35.000000         66.666667             76.470588   \n",
       "5  overall_quality          15.000000         66.666667             83.333333   \n",
       "\n",
       "   trained_7b,basesft_7b  trained_7b,base7b  trained_7b,basewr_7b  \n",
       "0              89.473684          52.941176             62.500000  \n",
       "1              89.473684          46.666667             61.538462  \n",
       "2              84.210526          81.250000             70.588235  \n",
       "3              89.473684          52.941176             66.666667  \n",
       "4              88.888889          80.000000             58.823529  \n",
       "5              90.000000          76.470588             64.705882  "
      ]
     },
     "execution_count": 18,
     "metadata": {},
     "output_type": "execute_result"
    }
   ],
   "source": [
    "get_preference_data(all_7b, columns)"
   ]
  },
  {
   "cell_type": "markdown",
   "id": "94294e61",
   "metadata": {},
   "source": [
    "### 3B"
   ]
  },
  {
   "cell_type": "code",
   "execution_count": 19,
   "id": "88297f6c",
   "metadata": {},
   "outputs": [],
   "source": [
    "columns = ['basesft_3b,base3b', 'basewr_3b,base3b', 'basewr_3b,basesft_3b',\n",
    "       'trained_3b,basesft_3b', 'trained_3b,base3b',\n",
    "       'trained_3b,basewr_3b']"
   ]
  },
  {
   "cell_type": "code",
   "execution_count": 20,
   "id": "2dbb7ca3",
   "metadata": {},
   "outputs": [
    {
     "data": {
      "text/html": [
       "<div>\n",
       "<style scoped>\n",
       "    .dataframe tbody tr th:only-of-type {\n",
       "        vertical-align: middle;\n",
       "    }\n",
       "\n",
       "    .dataframe tbody tr th {\n",
       "        vertical-align: top;\n",
       "    }\n",
       "\n",
       "    .dataframe thead th {\n",
       "        text-align: right;\n",
       "    }\n",
       "</style>\n",
       "<table border=\"1\" class=\"dataframe\">\n",
       "  <thead>\n",
       "    <tr style=\"text-align: right;\">\n",
       "      <th></th>\n",
       "      <th>Dimension</th>\n",
       "      <th>basesft_3b,base3b</th>\n",
       "      <th>basewr_3b,base3b</th>\n",
       "      <th>basewr_3b,basesft_3b</th>\n",
       "      <th>trained_3b,basesft_3b</th>\n",
       "      <th>trained_3b,base3b</th>\n",
       "      <th>trained_3b,basewr_3b</th>\n",
       "    </tr>\n",
       "  </thead>\n",
       "  <tbody>\n",
       "    <tr>\n",
       "      <th>0</th>\n",
       "      <td>plot</td>\n",
       "      <td>5.555556</td>\n",
       "      <td>58.823529</td>\n",
       "      <td>83.333333</td>\n",
       "      <td>83.333333</td>\n",
       "      <td>66.666667</td>\n",
       "      <td>57.142857</td>\n",
       "    </tr>\n",
       "    <tr>\n",
       "      <th>1</th>\n",
       "      <td>character</td>\n",
       "      <td>17.647059</td>\n",
       "      <td>52.941176</td>\n",
       "      <td>80.000000</td>\n",
       "      <td>94.117647</td>\n",
       "      <td>52.941176</td>\n",
       "      <td>69.230769</td>\n",
       "    </tr>\n",
       "    <tr>\n",
       "      <th>2</th>\n",
       "      <td>creativity</td>\n",
       "      <td>17.647059</td>\n",
       "      <td>66.666667</td>\n",
       "      <td>77.777778</td>\n",
       "      <td>86.666667</td>\n",
       "      <td>53.846154</td>\n",
       "      <td>38.461538</td>\n",
       "    </tr>\n",
       "    <tr>\n",
       "      <th>3</th>\n",
       "      <td>development</td>\n",
       "      <td>22.222222</td>\n",
       "      <td>61.111111</td>\n",
       "      <td>73.684211</td>\n",
       "      <td>92.857143</td>\n",
       "      <td>66.666667</td>\n",
       "      <td>57.142857</td>\n",
       "    </tr>\n",
       "    <tr>\n",
       "      <th>4</th>\n",
       "      <td>language</td>\n",
       "      <td>15.000000</td>\n",
       "      <td>62.500000</td>\n",
       "      <td>78.947368</td>\n",
       "      <td>94.444444</td>\n",
       "      <td>46.666667</td>\n",
       "      <td>42.857143</td>\n",
       "    </tr>\n",
       "    <tr>\n",
       "      <th>5</th>\n",
       "      <td>overall_quality</td>\n",
       "      <td>5.882353</td>\n",
       "      <td>60.000000</td>\n",
       "      <td>85.000000</td>\n",
       "      <td>94.117647</td>\n",
       "      <td>52.941176</td>\n",
       "      <td>62.500000</td>\n",
       "    </tr>\n",
       "  </tbody>\n",
       "</table>\n",
       "</div>"
      ],
      "text/plain": [
       "         Dimension  basesft_3b,base3b  basewr_3b,base3b  basewr_3b,basesft_3b  \\\n",
       "0             plot           5.555556         58.823529             83.333333   \n",
       "1        character          17.647059         52.941176             80.000000   \n",
       "2       creativity          17.647059         66.666667             77.777778   \n",
       "3      development          22.222222         61.111111             73.684211   \n",
       "4         language          15.000000         62.500000             78.947368   \n",
       "5  overall_quality           5.882353         60.000000             85.000000   \n",
       "\n",
       "   trained_3b,basesft_3b  trained_3b,base3b  trained_3b,basewr_3b  \n",
       "0              83.333333          66.666667             57.142857  \n",
       "1              94.117647          52.941176             69.230769  \n",
       "2              86.666667          53.846154             38.461538  \n",
       "3              92.857143          66.666667             57.142857  \n",
       "4              94.444444          46.666667             42.857143  \n",
       "5              94.117647          52.941176             62.500000  "
      ]
     },
     "execution_count": 20,
     "metadata": {},
     "output_type": "execute_result"
    }
   ],
   "source": [
    "get_preference_data(all_3b, columns)"
   ]
  },
  {
   "cell_type": "markdown",
   "id": "c1d3c11d",
   "metadata": {},
   "source": [
    "## Win-Rate Tables (A / (A + Same + B))"
   ]
  },
  {
   "cell_type": "code",
   "execution_count": 21,
   "id": "18b1ed85",
   "metadata": {},
   "outputs": [],
   "source": [
    "def get_winrate_data(df, ordered_columns, nice_comb_names=None):\n",
    "    all_options = df['options'].unique()\n",
    "    winrate_data = []\n",
    "    for key in votecols:\n",
    "        row = [key]\n",
    "        for cur_options in columns:\n",
    "            opt1 = cur_options.split(\",\")[0]\n",
    "            nice_options = \",\".join(sorted(cur_options.split(\",\")))\n",
    "            all_count = Counter(df[df['options'] == nice_options][key])\n",
    "            a_winrate = all_count[opt1] / sum(all_count.values())\n",
    "\n",
    "            row.append(a_winrate * 100)\n",
    "        winrate_data.append(row)\n",
    "    nice_columns = ordered_columns\n",
    "    if nice_comb_names is not None:\n",
    "        nice_columns = []\n",
    "        for c in columns:\n",
    "            nc = nice_comb_names[c]\n",
    "            nice_columns.append(\"WR-\" + nc)\n",
    "    \n",
    "    wr_df = pd.DataFrame(data=winrate_data, columns=[\"Dimension\", *nice_columns])\n",
    "    return wr_df"
   ]
  },
  {
   "cell_type": "markdown",
   "id": "31ff0349",
   "metadata": {},
   "source": [
    "### 7B"
   ]
  },
  {
   "cell_type": "code",
   "execution_count": 22,
   "id": "1fba4f68",
   "metadata": {},
   "outputs": [],
   "source": [
    "columns = ['basesft_7b,base7b', 'basewr_7b,base7b', 'basewr_7b,basesft_7b',\n",
    "       'trained_7b,basesft_7b', 'trained_7b,base7b',\n",
    "       'trained_7b,basewr_7b']"
   ]
  },
  {
   "cell_type": "code",
   "execution_count": 23,
   "id": "181bec2e",
   "metadata": {},
   "outputs": [],
   "source": [
    "nice_comb_names = {\n",
    "    'basesft_7b,base7b': 'sft+base',\n",
    "    'basewr_7b,base7b': 'br+base',\n",
    "    'basewr_7b,basesft_7b': 'br+sft',\n",
    "    'trained_7b,basesft_7b': 'rl+sft',\n",
    "    'trained_7b,base7b': 'rl+base',\n",
    "    'trained_7b,basewr_7b': 'rl+br'\n",
    "}"
   ]
  },
  {
   "cell_type": "code",
   "execution_count": 24,
   "id": "ec6472b8",
   "metadata": {},
   "outputs": [
    {
     "data": {
      "text/html": [
       "<div>\n",
       "<style scoped>\n",
       "    .dataframe tbody tr th:only-of-type {\n",
       "        vertical-align: middle;\n",
       "    }\n",
       "\n",
       "    .dataframe tbody tr th {\n",
       "        vertical-align: top;\n",
       "    }\n",
       "\n",
       "    .dataframe thead th {\n",
       "        text-align: right;\n",
       "    }\n",
       "</style>\n",
       "<table border=\"1\" class=\"dataframe\">\n",
       "  <thead>\n",
       "    <tr style=\"text-align: right;\">\n",
       "      <th></th>\n",
       "      <th>Dimension</th>\n",
       "      <th>WR-sft+base</th>\n",
       "      <th>WR-br+base</th>\n",
       "      <th>WR-br+sft</th>\n",
       "      <th>WR-rl+sft</th>\n",
       "      <th>WR-rl+base</th>\n",
       "      <th>WR-rl+br</th>\n",
       "    </tr>\n",
       "  </thead>\n",
       "  <tbody>\n",
       "    <tr>\n",
       "      <th>0</th>\n",
       "      <td>plot</td>\n",
       "      <td>5.0</td>\n",
       "      <td>65.0</td>\n",
       "      <td>75.0</td>\n",
       "      <td>85.0</td>\n",
       "      <td>45.0</td>\n",
       "      <td>50.0</td>\n",
       "    </tr>\n",
       "    <tr>\n",
       "      <th>1</th>\n",
       "      <td>character</td>\n",
       "      <td>25.0</td>\n",
       "      <td>55.0</td>\n",
       "      <td>80.0</td>\n",
       "      <td>85.0</td>\n",
       "      <td>35.0</td>\n",
       "      <td>40.0</td>\n",
       "    </tr>\n",
       "    <tr>\n",
       "      <th>2</th>\n",
       "      <td>creativity</td>\n",
       "      <td>20.0</td>\n",
       "      <td>40.0</td>\n",
       "      <td>70.0</td>\n",
       "      <td>80.0</td>\n",
       "      <td>65.0</td>\n",
       "      <td>60.0</td>\n",
       "    </tr>\n",
       "    <tr>\n",
       "      <th>3</th>\n",
       "      <td>development</td>\n",
       "      <td>20.0</td>\n",
       "      <td>55.0</td>\n",
       "      <td>75.0</td>\n",
       "      <td>85.0</td>\n",
       "      <td>45.0</td>\n",
       "      <td>50.0</td>\n",
       "    </tr>\n",
       "    <tr>\n",
       "      <th>4</th>\n",
       "      <td>language</td>\n",
       "      <td>35.0</td>\n",
       "      <td>40.0</td>\n",
       "      <td>65.0</td>\n",
       "      <td>80.0</td>\n",
       "      <td>60.0</td>\n",
       "      <td>50.0</td>\n",
       "    </tr>\n",
       "    <tr>\n",
       "      <th>5</th>\n",
       "      <td>overall_quality</td>\n",
       "      <td>15.0</td>\n",
       "      <td>60.0</td>\n",
       "      <td>75.0</td>\n",
       "      <td>90.0</td>\n",
       "      <td>65.0</td>\n",
       "      <td>55.0</td>\n",
       "    </tr>\n",
       "  </tbody>\n",
       "</table>\n",
       "</div>"
      ],
      "text/plain": [
       "         Dimension  WR-sft+base  WR-br+base  WR-br+sft  WR-rl+sft  WR-rl+base  \\\n",
       "0             plot          5.0        65.0       75.0       85.0        45.0   \n",
       "1        character         25.0        55.0       80.0       85.0        35.0   \n",
       "2       creativity         20.0        40.0       70.0       80.0        65.0   \n",
       "3      development         20.0        55.0       75.0       85.0        45.0   \n",
       "4         language         35.0        40.0       65.0       80.0        60.0   \n",
       "5  overall_quality         15.0        60.0       75.0       90.0        65.0   \n",
       "\n",
       "   WR-rl+br  \n",
       "0      50.0  \n",
       "1      40.0  \n",
       "2      60.0  \n",
       "3      50.0  \n",
       "4      50.0  \n",
       "5      55.0  "
      ]
     },
     "execution_count": 24,
     "metadata": {},
     "output_type": "execute_result"
    }
   ],
   "source": [
    "get_winrate_data(all_7b, columns, nice_comb_names)"
   ]
  },
  {
   "cell_type": "markdown",
   "id": "d7a7919a",
   "metadata": {},
   "source": [
    "### 3B"
   ]
  },
  {
   "cell_type": "code",
   "execution_count": 25,
   "id": "64c9a956",
   "metadata": {},
   "outputs": [],
   "source": [
    "columns = ['basesft_3b,base3b', 'basewr_3b,base3b', 'basewr_3b,basesft_3b',\n",
    "       'trained_3b,basesft_3b', 'trained_3b,base3b',\n",
    "       'trained_3b,basewr_3b']"
   ]
  },
  {
   "cell_type": "code",
   "execution_count": 26,
   "id": "d3683258",
   "metadata": {},
   "outputs": [],
   "source": [
    "nice_comb_names = {\n",
    "    'basesft_3b,base3b': 'sft+base',\n",
    "    'basewr_3b,base3b': 'br+base',\n",
    "    'basewr_3b,basesft_3b': 'br+sft',\n",
    "    'trained_3b,basesft_3b': 'rl+sft',\n",
    "    'trained_3b,base3b': 'rl+base',\n",
    "    'trained_3b,basewr_3b': 'rl+br'\n",
    "}"
   ]
  },
  {
   "cell_type": "code",
   "execution_count": 27,
   "id": "0f1d3085",
   "metadata": {},
   "outputs": [
    {
     "data": {
      "text/html": [
       "<div>\n",
       "<style scoped>\n",
       "    .dataframe tbody tr th:only-of-type {\n",
       "        vertical-align: middle;\n",
       "    }\n",
       "\n",
       "    .dataframe tbody tr th {\n",
       "        vertical-align: top;\n",
       "    }\n",
       "\n",
       "    .dataframe thead th {\n",
       "        text-align: right;\n",
       "    }\n",
       "</style>\n",
       "<table border=\"1\" class=\"dataframe\">\n",
       "  <thead>\n",
       "    <tr style=\"text-align: right;\">\n",
       "      <th></th>\n",
       "      <th>Dimension</th>\n",
       "      <th>WR-sft+base</th>\n",
       "      <th>WR-br+base</th>\n",
       "      <th>WR-br+sft</th>\n",
       "      <th>WR-rl+sft</th>\n",
       "      <th>WR-rl+base</th>\n",
       "      <th>WR-rl+br</th>\n",
       "    </tr>\n",
       "  </thead>\n",
       "  <tbody>\n",
       "    <tr>\n",
       "      <th>0</th>\n",
       "      <td>plot</td>\n",
       "      <td>5.0</td>\n",
       "      <td>50.0</td>\n",
       "      <td>75.0</td>\n",
       "      <td>75.0</td>\n",
       "      <td>50.0</td>\n",
       "      <td>40.0</td>\n",
       "    </tr>\n",
       "    <tr>\n",
       "      <th>1</th>\n",
       "      <td>character</td>\n",
       "      <td>15.0</td>\n",
       "      <td>45.0</td>\n",
       "      <td>80.0</td>\n",
       "      <td>80.0</td>\n",
       "      <td>45.0</td>\n",
       "      <td>45.0</td>\n",
       "    </tr>\n",
       "    <tr>\n",
       "      <th>2</th>\n",
       "      <td>creativity</td>\n",
       "      <td>15.0</td>\n",
       "      <td>60.0</td>\n",
       "      <td>70.0</td>\n",
       "      <td>65.0</td>\n",
       "      <td>35.0</td>\n",
       "      <td>25.0</td>\n",
       "    </tr>\n",
       "    <tr>\n",
       "      <th>3</th>\n",
       "      <td>development</td>\n",
       "      <td>20.0</td>\n",
       "      <td>55.0</td>\n",
       "      <td>70.0</td>\n",
       "      <td>65.0</td>\n",
       "      <td>50.0</td>\n",
       "      <td>40.0</td>\n",
       "    </tr>\n",
       "    <tr>\n",
       "      <th>4</th>\n",
       "      <td>language</td>\n",
       "      <td>15.0</td>\n",
       "      <td>50.0</td>\n",
       "      <td>75.0</td>\n",
       "      <td>85.0</td>\n",
       "      <td>35.0</td>\n",
       "      <td>30.0</td>\n",
       "    </tr>\n",
       "    <tr>\n",
       "      <th>5</th>\n",
       "      <td>overall_quality</td>\n",
       "      <td>5.0</td>\n",
       "      <td>60.0</td>\n",
       "      <td>85.0</td>\n",
       "      <td>80.0</td>\n",
       "      <td>45.0</td>\n",
       "      <td>50.0</td>\n",
       "    </tr>\n",
       "  </tbody>\n",
       "</table>\n",
       "</div>"
      ],
      "text/plain": [
       "         Dimension  WR-sft+base  WR-br+base  WR-br+sft  WR-rl+sft  WR-rl+base  \\\n",
       "0             plot          5.0        50.0       75.0       75.0        50.0   \n",
       "1        character         15.0        45.0       80.0       80.0        45.0   \n",
       "2       creativity         15.0        60.0       70.0       65.0        35.0   \n",
       "3      development         20.0        55.0       70.0       65.0        50.0   \n",
       "4         language         15.0        50.0       75.0       85.0        35.0   \n",
       "5  overall_quality          5.0        60.0       85.0       80.0        45.0   \n",
       "\n",
       "   WR-rl+br  \n",
       "0      40.0  \n",
       "1      45.0  \n",
       "2      25.0  \n",
       "3      40.0  \n",
       "4      30.0  \n",
       "5      50.0  "
      ]
     },
     "execution_count": 27,
     "metadata": {},
     "output_type": "execute_result"
    }
   ],
   "source": [
    "get_winrate_data(all_3b, columns, nice_comb_names)"
   ]
  },
  {
   "cell_type": "markdown",
   "id": "b977a160",
   "metadata": {},
   "source": [
    "## Improvement By Genre"
   ]
  },
  {
   "cell_type": "code",
   "execution_count": 28,
   "id": "25ecff0a",
   "metadata": {},
   "outputs": [],
   "source": [
    "all_genres = ['scifi', 'fantasy', 'romance', 'historical']"
   ]
  },
  {
   "cell_type": "code",
   "execution_count": 36,
   "id": "bcc4a5f0",
   "metadata": {},
   "outputs": [],
   "source": [
    "nice_genre_names = {\n",
    "    'scifi':'Scifi',\n",
    "    'fantasy':'Fantasy',\n",
    "    'romance':'Romance',\n",
    "    'historical':'Historical',\n",
    "}"
   ]
  },
  {
   "cell_type": "markdown",
   "id": "f4e5e9bb",
   "metadata": {},
   "source": [
    "# GENRE Win-Rates and Pref Probs for Both"
   ]
  },
  {
   "cell_type": "code",
   "execution_count": 37,
   "id": "3010c3ac",
   "metadata": {},
   "outputs": [],
   "source": [
    "df = pd.concat([all_7b, all_3b])"
   ]
  },
  {
   "cell_type": "code",
   "execution_count": 38,
   "id": "98aed0dd",
   "metadata": {},
   "outputs": [],
   "source": [
    "columns = ['basesft_3b,base3b', 'basewr_3b,base3b', 'basewr_3b,basesft_3b',\n",
    "       'trained_3b,basesft_3b', 'trained_3b,base3b',\n",
    "       'trained_3b,basewr_3b']"
   ]
  },
  {
   "cell_type": "code",
   "execution_count": 39,
   "id": "1a52f99e",
   "metadata": {},
   "outputs": [],
   "source": [
    "nice_comb_names = {\n",
    "    'basesft_3b,base3b': 'sft+base',\n",
    "    'basewr_3b,base3b': 'br+base',\n",
    "    'basewr_3b,basesft_3b': 'br+sft',\n",
    "    'trained_3b,basesft_3b': 'rl+sft',\n",
    "    'trained_3b,base3b': 'rl+base',\n",
    "    'trained_3b,basewr_3b': 'rl+br'\n",
    "}"
   ]
  },
  {
   "cell_type": "code",
   "execution_count": 40,
   "id": "55e35538",
   "metadata": {},
   "outputs": [],
   "source": [
    "genre_pref_data = []\n",
    "for genre in genres_we_care_about:\n",
    "    for is_7b in [False, True]:\n",
    "        size = \"7b\" if is_7b else \"3b\"\n",
    "        row = [genre + \"-\" + size]\n",
    "        subgenre = df[df[genre]]\n",
    "        for cur_options in columns:\n",
    "            if is_7b:\n",
    "                cur_options = cur_options.replace(\"3\", \"7\")\n",
    "            opt1, opt2 = cur_options.split(\",\")\n",
    "            nice_options = \",\".join(sorted(cur_options.split(\",\")))\n",
    "            all_count = Counter(subgenre[subgenre['options'] == nice_options]['overall_quality'])\n",
    "            a_winrate = all_count.get(opt1, 0) / sum(all_count.values())\n",
    "            assert opt1 in all_count or opt2 in all_count # fine if not true just need to handle it explicitly\n",
    "\n",
    "            row.append(a_winrate*100)\n",
    "#             row.append(a_pref*100)\n",
    "        genre_pref_data.append(row)"
   ]
  },
  {
   "cell_type": "code",
   "execution_count": 41,
   "id": "588b8983",
   "metadata": {},
   "outputs": [],
   "source": [
    "nice_columns = []\n",
    "for c in columns:\n",
    "    nc = nice_comb_names[c]\n",
    "    nice_columns.append(\"WR-\" + nc)"
   ]
  },
  {
   "cell_type": "code",
   "execution_count": 42,
   "id": "033c9251",
   "metadata": {},
   "outputs": [
    {
     "data": {
      "text/html": [
       "<div>\n",
       "<style scoped>\n",
       "    .dataframe tbody tr th:only-of-type {\n",
       "        vertical-align: middle;\n",
       "    }\n",
       "\n",
       "    .dataframe tbody tr th {\n",
       "        vertical-align: top;\n",
       "    }\n",
       "\n",
       "    .dataframe thead th {\n",
       "        text-align: right;\n",
       "    }\n",
       "</style>\n",
       "<table border=\"1\" class=\"dataframe\">\n",
       "  <thead>\n",
       "    <tr style=\"text-align: right;\">\n",
       "      <th></th>\n",
       "      <th>Dimension</th>\n",
       "      <th>WR-sft+base</th>\n",
       "      <th>WR-br+base</th>\n",
       "      <th>WR-br+sft</th>\n",
       "      <th>WR-rl+sft</th>\n",
       "      <th>WR-rl+base</th>\n",
       "      <th>WR-rl+br</th>\n",
       "    </tr>\n",
       "  </thead>\n",
       "  <tbody>\n",
       "    <tr>\n",
       "      <th>0</th>\n",
       "      <td>scifi-3b</td>\n",
       "      <td>0.0</td>\n",
       "      <td>80.0</td>\n",
       "      <td>80.0</td>\n",
       "      <td>80.0</td>\n",
       "      <td>60.0</td>\n",
       "      <td>60.0</td>\n",
       "    </tr>\n",
       "    <tr>\n",
       "      <th>1</th>\n",
       "      <td>scifi-7b</td>\n",
       "      <td>0.0</td>\n",
       "      <td>60.0</td>\n",
       "      <td>100.0</td>\n",
       "      <td>100.0</td>\n",
       "      <td>100.0</td>\n",
       "      <td>60.0</td>\n",
       "    </tr>\n",
       "    <tr>\n",
       "      <th>2</th>\n",
       "      <td>fantasy-3b</td>\n",
       "      <td>0.0</td>\n",
       "      <td>60.0</td>\n",
       "      <td>100.0</td>\n",
       "      <td>80.0</td>\n",
       "      <td>30.0</td>\n",
       "      <td>60.0</td>\n",
       "    </tr>\n",
       "    <tr>\n",
       "      <th>3</th>\n",
       "      <td>fantasy-7b</td>\n",
       "      <td>30.0</td>\n",
       "      <td>60.0</td>\n",
       "      <td>70.0</td>\n",
       "      <td>80.0</td>\n",
       "      <td>40.0</td>\n",
       "      <td>60.0</td>\n",
       "    </tr>\n",
       "    <tr>\n",
       "      <th>4</th>\n",
       "      <td>romance-3b</td>\n",
       "      <td>0.0</td>\n",
       "      <td>40.0</td>\n",
       "      <td>100.0</td>\n",
       "      <td>80.0</td>\n",
       "      <td>20.0</td>\n",
       "      <td>40.0</td>\n",
       "    </tr>\n",
       "    <tr>\n",
       "      <th>5</th>\n",
       "      <td>romance-7b</td>\n",
       "      <td>0.0</td>\n",
       "      <td>40.0</td>\n",
       "      <td>100.0</td>\n",
       "      <td>100.0</td>\n",
       "      <td>40.0</td>\n",
       "      <td>60.0</td>\n",
       "    </tr>\n",
       "    <tr>\n",
       "      <th>6</th>\n",
       "      <td>historical-3b</td>\n",
       "      <td>10.0</td>\n",
       "      <td>60.0</td>\n",
       "      <td>80.0</td>\n",
       "      <td>80.0</td>\n",
       "      <td>50.0</td>\n",
       "      <td>50.0</td>\n",
       "    </tr>\n",
       "    <tr>\n",
       "      <th>7</th>\n",
       "      <td>historical-7b</td>\n",
       "      <td>30.0</td>\n",
       "      <td>70.0</td>\n",
       "      <td>50.0</td>\n",
       "      <td>80.0</td>\n",
       "      <td>60.0</td>\n",
       "      <td>50.0</td>\n",
       "    </tr>\n",
       "  </tbody>\n",
       "</table>\n",
       "</div>"
      ],
      "text/plain": [
       "       Dimension  WR-sft+base  WR-br+base  WR-br+sft  WR-rl+sft  WR-rl+base  \\\n",
       "0       scifi-3b          0.0        80.0       80.0       80.0        60.0   \n",
       "1       scifi-7b          0.0        60.0      100.0      100.0       100.0   \n",
       "2     fantasy-3b          0.0        60.0      100.0       80.0        30.0   \n",
       "3     fantasy-7b         30.0        60.0       70.0       80.0        40.0   \n",
       "4     romance-3b          0.0        40.0      100.0       80.0        20.0   \n",
       "5     romance-7b          0.0        40.0      100.0      100.0        40.0   \n",
       "6  historical-3b         10.0        60.0       80.0       80.0        50.0   \n",
       "7  historical-7b         30.0        70.0       50.0       80.0        60.0   \n",
       "\n",
       "   WR-rl+br  \n",
       "0      60.0  \n",
       "1      60.0  \n",
       "2      60.0  \n",
       "3      60.0  \n",
       "4      40.0  \n",
       "5      60.0  \n",
       "6      50.0  \n",
       "7      50.0  "
      ]
     },
     "execution_count": 42,
     "metadata": {},
     "output_type": "execute_result"
    }
   ],
   "source": [
    "gen_pref_7b = pd.DataFrame(data=genre_pref_data, columns=[\"Dimension\", *nice_columns])\n",
    "gen_pref_7b"
   ]
  },
  {
   "cell_type": "markdown",
   "id": "2c0b99d4",
   "metadata": {},
   "source": [
    "# Automated Metrics"
   ]
  },
  {
   "cell_type": "code",
   "execution_count": 43,
   "id": "553f8bc8",
   "metadata": {},
   "outputs": [],
   "source": [
    "cats = ['num_words', 'pct_unique_words',\n",
    "       'pct_tri_overlap',\n",
    "       'rouge-l-f', 'rouge-l-p']"
   ]
  },
  {
   "cell_type": "code",
   "execution_count": 44,
   "id": "a22d4f6a",
   "metadata": {},
   "outputs": [],
   "source": [
    "nice_cats = {\n",
    "    'num_words': '\\# Words',\n",
    "    'pct_unique_words': 'Unique Words',\n",
    "    'pct_tri_overlap': 'Unseen Trigrams',\n",
    "    'rouge-l-f': 'Rouge-L F1',\n",
    "    'rouge-l-p': 'Rouge-L Prec',\n",
    "    'story_text_rouge_p': \"Prev. Chap. Rouge-L Prec.\",\n",
    "     'next_chapter_header_rouge_p': \"Next Chap. Header Rouge-L Prec.\",\n",
    "     'prior_plot_summary_rouge_p': \"Prior Sum. Rouge-L Prec.\",\n",
    "     'high_level_plot_summary_rouge_p': \"Plot Sketch Rouge-L Prec.\",\n",
    "     'character_sheets_rouge_p': \"CSheets Rouge-L Prec.\",\n",
    "     'next_chapter_synopsis_rouge_p': \"Next Chap. Syn. Rouge-L Prec.\",\n",
    "    \n",
    "}"
   ]
  },
  {
   "cell_type": "code",
   "execution_count": 45,
   "id": "186c15e4",
   "metadata": {},
   "outputs": [],
   "source": [
    "keys = ['base3', 'sft3', 'basewr3', 'rl3', 'base7', 'sft7', 'basewr7', 'rl7', \n",
    "        'reas3', 'trainreas3', 'reas7', 'trainreas7']"
   ]
  },
  {
   "cell_type": "code",
   "execution_count": 46,
   "id": "3ce05096",
   "metadata": {},
   "outputs": [],
   "source": [
    "nice_keys = {'sft3':\"3B-SFT\", \n",
    "'sft7':\"7B-SFT\", \n",
    "'base3':\"3B-B\", \n",
    "'basewr3':\"3B-BR\",\n",
    "'rl3':\"3B-RL-Trained\", \n",
    "'rl7':\"7B-RL-Trained\", \n",
    "'base7':\"7B-B\",\n",
    "'basewr7':\"7B-BR\", \n",
    "'reas7':\"7B-BR-REAS\", \n",
    "'trainreas7':\"7B-RL-Trained-REAS\", \n",
    "'reas3':\"3B-BR-REAS\", \n",
    "'trainreas3':\"3B-RL-Trained-REAS\"\n",
    "}"
   ]
  },
  {
   "cell_type": "code",
   "execution_count": 47,
   "id": "583358fa",
   "metadata": {},
   "outputs": [],
   "source": [
    "aut_data = []\n",
    "for key in keys:\n",
    "    nk = nice_keys[key]\n",
    "    row = [nk]\n",
    "    for cat in cats:\n",
    "        sub = automated_metrics[(automated_metrics['cat'] == cat) & (automated_metrics['key'] == key)]\n",
    "        mean = sub['val'].mean()\n",
    "        row.append(mean)\n",
    "    aut_data.append(row)"
   ]
  },
  {
   "cell_type": "code",
   "execution_count": 48,
   "id": "71bb442b",
   "metadata": {},
   "outputs": [
    {
     "data": {
      "text/html": [
       "<div>\n",
       "<style scoped>\n",
       "    .dataframe tbody tr th:only-of-type {\n",
       "        vertical-align: middle;\n",
       "    }\n",
       "\n",
       "    .dataframe tbody tr th {\n",
       "        vertical-align: top;\n",
       "    }\n",
       "\n",
       "    .dataframe thead th {\n",
       "        text-align: right;\n",
       "    }\n",
       "</style>\n",
       "<table border=\"1\" class=\"dataframe\">\n",
       "  <thead>\n",
       "    <tr style=\"text-align: right;\">\n",
       "      <th></th>\n",
       "      <th>Model</th>\n",
       "      <th>\\# Words</th>\n",
       "      <th>Unique Words</th>\n",
       "      <th>Unseen Trigrams</th>\n",
       "      <th>Rouge-L F1</th>\n",
       "      <th>Rouge-L Prec</th>\n",
       "    </tr>\n",
       "  </thead>\n",
       "  <tbody>\n",
       "    <tr>\n",
       "      <th>0</th>\n",
       "      <td>3B-B</td>\n",
       "      <td>1383.093923</td>\n",
       "      <td>35.576036</td>\n",
       "      <td>83.326706</td>\n",
       "      <td>0.097232</td>\n",
       "      <td>0.283545</td>\n",
       "    </tr>\n",
       "    <tr>\n",
       "      <th>1</th>\n",
       "      <td>3B-SFT</td>\n",
       "      <td>1149.287293</td>\n",
       "      <td>25.292415</td>\n",
       "      <td>56.010547</td>\n",
       "      <td>0.083985</td>\n",
       "      <td>0.320041</td>\n",
       "    </tr>\n",
       "    <tr>\n",
       "      <th>2</th>\n",
       "      <td>3B-BR</td>\n",
       "      <td>1441.209945</td>\n",
       "      <td>34.131509</td>\n",
       "      <td>82.798635</td>\n",
       "      <td>0.098992</td>\n",
       "      <td>0.277007</td>\n",
       "    </tr>\n",
       "    <tr>\n",
       "      <th>3</th>\n",
       "      <td>3B-RL-Trained</td>\n",
       "      <td>1353.226519</td>\n",
       "      <td>34.945049</td>\n",
       "      <td>82.491012</td>\n",
       "      <td>0.096647</td>\n",
       "      <td>0.282993</td>\n",
       "    </tr>\n",
       "    <tr>\n",
       "      <th>4</th>\n",
       "      <td>7B-B</td>\n",
       "      <td>1486.453039</td>\n",
       "      <td>32.726410</td>\n",
       "      <td>77.789219</td>\n",
       "      <td>0.103015</td>\n",
       "      <td>0.286289</td>\n",
       "    </tr>\n",
       "    <tr>\n",
       "      <th>5</th>\n",
       "      <td>7B-SFT</td>\n",
       "      <td>1278.066298</td>\n",
       "      <td>23.729973</td>\n",
       "      <td>53.835538</td>\n",
       "      <td>0.086784</td>\n",
       "      <td>0.307694</td>\n",
       "    </tr>\n",
       "    <tr>\n",
       "      <th>6</th>\n",
       "      <td>7B-BR</td>\n",
       "      <td>1567.972376</td>\n",
       "      <td>31.843103</td>\n",
       "      <td>77.488631</td>\n",
       "      <td>0.105944</td>\n",
       "      <td>0.282245</td>\n",
       "    </tr>\n",
       "    <tr>\n",
       "      <th>7</th>\n",
       "      <td>7B-RL-Trained</td>\n",
       "      <td>1479.502762</td>\n",
       "      <td>33.228115</td>\n",
       "      <td>77.240235</td>\n",
       "      <td>0.109658</td>\n",
       "      <td>0.305675</td>\n",
       "    </tr>\n",
       "    <tr>\n",
       "      <th>8</th>\n",
       "      <td>3B-BR-REAS</td>\n",
       "      <td>845.839779</td>\n",
       "      <td>29.758648</td>\n",
       "      <td>62.170551</td>\n",
       "      <td>0.089131</td>\n",
       "      <td>0.380485</td>\n",
       "    </tr>\n",
       "    <tr>\n",
       "      <th>9</th>\n",
       "      <td>3B-RL-Trained-REAS</td>\n",
       "      <td>721.574586</td>\n",
       "      <td>25.489611</td>\n",
       "      <td>48.840001</td>\n",
       "      <td>0.078574</td>\n",
       "      <td>0.405359</td>\n",
       "    </tr>\n",
       "    <tr>\n",
       "      <th>10</th>\n",
       "      <td>7B-BR-REAS</td>\n",
       "      <td>777.022099</td>\n",
       "      <td>30.473210</td>\n",
       "      <td>60.741321</td>\n",
       "      <td>0.084341</td>\n",
       "      <td>0.373201</td>\n",
       "    </tr>\n",
       "    <tr>\n",
       "      <th>11</th>\n",
       "      <td>7B-RL-Trained-REAS</td>\n",
       "      <td>796.447514</td>\n",
       "      <td>26.849683</td>\n",
       "      <td>29.829534</td>\n",
       "      <td>0.099285</td>\n",
       "      <td>0.454677</td>\n",
       "    </tr>\n",
       "  </tbody>\n",
       "</table>\n",
       "</div>"
      ],
      "text/plain": [
       "                 Model     \\# Words  Unique Words  Unseen Trigrams  \\\n",
       "0                 3B-B  1383.093923     35.576036        83.326706   \n",
       "1               3B-SFT  1149.287293     25.292415        56.010547   \n",
       "2                3B-BR  1441.209945     34.131509        82.798635   \n",
       "3        3B-RL-Trained  1353.226519     34.945049        82.491012   \n",
       "4                 7B-B  1486.453039     32.726410        77.789219   \n",
       "5               7B-SFT  1278.066298     23.729973        53.835538   \n",
       "6                7B-BR  1567.972376     31.843103        77.488631   \n",
       "7        7B-RL-Trained  1479.502762     33.228115        77.240235   \n",
       "8           3B-BR-REAS   845.839779     29.758648        62.170551   \n",
       "9   3B-RL-Trained-REAS   721.574586     25.489611        48.840001   \n",
       "10          7B-BR-REAS   777.022099     30.473210        60.741321   \n",
       "11  7B-RL-Trained-REAS   796.447514     26.849683        29.829534   \n",
       "\n",
       "    Rouge-L F1  Rouge-L Prec  \n",
       "0     0.097232      0.283545  \n",
       "1     0.083985      0.320041  \n",
       "2     0.098992      0.277007  \n",
       "3     0.096647      0.282993  \n",
       "4     0.103015      0.286289  \n",
       "5     0.086784      0.307694  \n",
       "6     0.105944      0.282245  \n",
       "7     0.109658      0.305675  \n",
       "8     0.089131      0.380485  \n",
       "9     0.078574      0.405359  \n",
       "10    0.084341      0.373201  \n",
       "11    0.099285      0.454677  "
      ]
     },
     "execution_count": 48,
     "metadata": {},
     "output_type": "execute_result"
    }
   ],
   "source": [
    "aut_df = pd.DataFrame(data=aut_data, columns=['Model', *[nice_cats[c] for c in cats]])\n",
    "aut_df"
   ]
  },
  {
   "cell_type": "markdown",
   "id": "c0a253f2",
   "metadata": {},
   "source": [
    "### Rouge-L By Story-Information Section"
   ]
  },
  {
   "cell_type": "code",
   "execution_count": 57,
   "id": "26d9f40b",
   "metadata": {},
   "outputs": [],
   "source": [
    "prompt_part_rouge_cats = ['story_text_rouge_p',\n",
    "#  'next_chapter_header_rouge_p',\n",
    " 'prior_plot_summary_rouge_p',\n",
    " 'high_level_plot_summary_rouge_p',\n",
    " 'character_sheets_rouge_p',\n",
    " 'next_chapter_synopsis_rouge_p']"
   ]
  },
  {
   "cell_type": "code",
   "execution_count": 58,
   "id": "8022d5a3",
   "metadata": {},
   "outputs": [],
   "source": [
    "prompt_aut_data = []\n",
    "for key in keys:\n",
    "    nk = nice_keys[key]\n",
    "    row = [nk]\n",
    "    for cat in prompt_part_rouge_cats:\n",
    "        sub = automated_metrics[(automated_metrics['cat'] == cat) & (automated_metrics['key'] == key)]\n",
    "        mean = sub['val'].mean()\n",
    "        row.append(mean)\n",
    "    prompt_aut_data.append(row)"
   ]
  },
  {
   "cell_type": "code",
   "execution_count": 59,
   "id": "63b9c82a",
   "metadata": {},
   "outputs": [
    {
     "data": {
      "text/html": [
       "<div>\n",
       "<style scoped>\n",
       "    .dataframe tbody tr th:only-of-type {\n",
       "        vertical-align: middle;\n",
       "    }\n",
       "\n",
       "    .dataframe tbody tr th {\n",
       "        vertical-align: top;\n",
       "    }\n",
       "\n",
       "    .dataframe thead th {\n",
       "        text-align: right;\n",
       "    }\n",
       "</style>\n",
       "<table border=\"1\" class=\"dataframe\">\n",
       "  <thead>\n",
       "    <tr style=\"text-align: right;\">\n",
       "      <th></th>\n",
       "      <th>Model</th>\n",
       "      <th>Prev. Chap. Rouge-L Prec.</th>\n",
       "      <th>Prior Sum. Rouge-L Prec.</th>\n",
       "      <th>Plot Sketch Rouge-L Prec.</th>\n",
       "      <th>CSheets Rouge-L Prec.</th>\n",
       "      <th>Next Chap. Syn. Rouge-L Prec.</th>\n",
       "    </tr>\n",
       "  </thead>\n",
       "  <tbody>\n",
       "    <tr>\n",
       "      <th>0</th>\n",
       "      <td>3B-B</td>\n",
       "      <td>0.196772</td>\n",
       "      <td>0.106383</td>\n",
       "      <td>0.116176</td>\n",
       "      <td>0.171054</td>\n",
       "      <td>0.051314</td>\n",
       "    </tr>\n",
       "    <tr>\n",
       "      <th>1</th>\n",
       "      <td>3B-SFT</td>\n",
       "      <td>0.238306</td>\n",
       "      <td>0.109784</td>\n",
       "      <td>0.120971</td>\n",
       "      <td>0.178466</td>\n",
       "      <td>0.070356</td>\n",
       "    </tr>\n",
       "    <tr>\n",
       "      <th>2</th>\n",
       "      <td>3B-BR</td>\n",
       "      <td>0.191268</td>\n",
       "      <td>0.101448</td>\n",
       "      <td>0.111783</td>\n",
       "      <td>0.165952</td>\n",
       "      <td>0.047863</td>\n",
       "    </tr>\n",
       "    <tr>\n",
       "      <th>3</th>\n",
       "      <td>3B-RL-Trained</td>\n",
       "      <td>0.196780</td>\n",
       "      <td>0.105952</td>\n",
       "      <td>0.115856</td>\n",
       "      <td>0.170689</td>\n",
       "      <td>0.053452</td>\n",
       "    </tr>\n",
       "    <tr>\n",
       "      <th>4</th>\n",
       "      <td>7B-B</td>\n",
       "      <td>0.206881</td>\n",
       "      <td>0.098693</td>\n",
       "      <td>0.108412</td>\n",
       "      <td>0.159731</td>\n",
       "      <td>0.060753</td>\n",
       "    </tr>\n",
       "    <tr>\n",
       "      <th>5</th>\n",
       "      <td>7B-SFT</td>\n",
       "      <td>0.228981</td>\n",
       "      <td>0.105275</td>\n",
       "      <td>0.116716</td>\n",
       "      <td>0.169398</td>\n",
       "      <td>0.065658</td>\n",
       "    </tr>\n",
       "    <tr>\n",
       "      <th>6</th>\n",
       "      <td>7B-BR</td>\n",
       "      <td>0.199698</td>\n",
       "      <td>0.097129</td>\n",
       "      <td>0.107095</td>\n",
       "      <td>0.157653</td>\n",
       "      <td>0.055705</td>\n",
       "    </tr>\n",
       "    <tr>\n",
       "      <th>7</th>\n",
       "      <td>7B-RL-Trained</td>\n",
       "      <td>0.214421</td>\n",
       "      <td>0.104532</td>\n",
       "      <td>0.115410</td>\n",
       "      <td>0.166833</td>\n",
       "      <td>0.065041</td>\n",
       "    </tr>\n",
       "    <tr>\n",
       "      <th>8</th>\n",
       "      <td>3B-BR-REAS</td>\n",
       "      <td>0.234572</td>\n",
       "      <td>0.166864</td>\n",
       "      <td>0.183171</td>\n",
       "      <td>0.256898</td>\n",
       "      <td>0.113126</td>\n",
       "    </tr>\n",
       "    <tr>\n",
       "      <th>9</th>\n",
       "      <td>3B-RL-Trained-REAS</td>\n",
       "      <td>0.247983</td>\n",
       "      <td>0.177626</td>\n",
       "      <td>0.195036</td>\n",
       "      <td>0.242686</td>\n",
       "      <td>0.186144</td>\n",
       "    </tr>\n",
       "    <tr>\n",
       "      <th>10</th>\n",
       "      <td>7B-BR-REAS</td>\n",
       "      <td>0.228678</td>\n",
       "      <td>0.161633</td>\n",
       "      <td>0.179547</td>\n",
       "      <td>0.244455</td>\n",
       "      <td>0.114350</td>\n",
       "    </tr>\n",
       "    <tr>\n",
       "      <th>11</th>\n",
       "      <td>7B-RL-Trained-REAS</td>\n",
       "      <td>0.243229</td>\n",
       "      <td>0.199948</td>\n",
       "      <td>0.219687</td>\n",
       "      <td>0.321986</td>\n",
       "      <td>0.119758</td>\n",
       "    </tr>\n",
       "  </tbody>\n",
       "</table>\n",
       "</div>"
      ],
      "text/plain": [
       "                 Model  Prev. Chap. Rouge-L Prec.  Prior Sum. Rouge-L Prec.  \\\n",
       "0                 3B-B                   0.196772                  0.106383   \n",
       "1               3B-SFT                   0.238306                  0.109784   \n",
       "2                3B-BR                   0.191268                  0.101448   \n",
       "3        3B-RL-Trained                   0.196780                  0.105952   \n",
       "4                 7B-B                   0.206881                  0.098693   \n",
       "5               7B-SFT                   0.228981                  0.105275   \n",
       "6                7B-BR                   0.199698                  0.097129   \n",
       "7        7B-RL-Trained                   0.214421                  0.104532   \n",
       "8           3B-BR-REAS                   0.234572                  0.166864   \n",
       "9   3B-RL-Trained-REAS                   0.247983                  0.177626   \n",
       "10          7B-BR-REAS                   0.228678                  0.161633   \n",
       "11  7B-RL-Trained-REAS                   0.243229                  0.199948   \n",
       "\n",
       "    Plot Sketch Rouge-L Prec.  CSheets Rouge-L Prec.  \\\n",
       "0                    0.116176               0.171054   \n",
       "1                    0.120971               0.178466   \n",
       "2                    0.111783               0.165952   \n",
       "3                    0.115856               0.170689   \n",
       "4                    0.108412               0.159731   \n",
       "5                    0.116716               0.169398   \n",
       "6                    0.107095               0.157653   \n",
       "7                    0.115410               0.166833   \n",
       "8                    0.183171               0.256898   \n",
       "9                    0.195036               0.242686   \n",
       "10                   0.179547               0.244455   \n",
       "11                   0.219687               0.321986   \n",
       "\n",
       "    Next Chap. Syn. Rouge-L Prec.  \n",
       "0                        0.051314  \n",
       "1                        0.070356  \n",
       "2                        0.047863  \n",
       "3                        0.053452  \n",
       "4                        0.060753  \n",
       "5                        0.065658  \n",
       "6                        0.055705  \n",
       "7                        0.065041  \n",
       "8                        0.113126  \n",
       "9                        0.186144  \n",
       "10                       0.114350  \n",
       "11                       0.119758  "
      ]
     },
     "execution_count": 59,
     "metadata": {},
     "output_type": "execute_result"
    }
   ],
   "source": [
    "prompt_aut_df = pd.DataFrame(data=prompt_aut_data, columns=['Model', *[nice_cats[c] for c in prompt_part_rouge_cats]])\n",
    "prompt_aut_df"
   ]
  },
  {
   "cell_type": "code",
   "execution_count": null,
   "id": "20c052b4",
   "metadata": {},
   "outputs": [],
   "source": []
  },
  {
   "cell_type": "markdown",
   "id": "0321bfff",
   "metadata": {},
   "source": [
    "### Aut Statistical Tests"
   ]
  },
  {
   "cell_type": "code",
   "execution_count": 60,
   "id": "e67de579",
   "metadata": {},
   "outputs": [],
   "source": [
    "from scipy.stats import f_oneway"
   ]
  },
  {
   "cell_type": "code",
   "execution_count": 61,
   "id": "1d5747e6",
   "metadata": {},
   "outputs": [],
   "source": [
    "chapter_keys_3b = ['base3',\n",
    "#  'sft3',\n",
    " 'basewr3',\n",
    " 'rl3']\n",
    "chapter_keys_7b = ['base7',\n",
    "#  'sft7',\n",
    " 'basewr7',\n",
    " 'rl7'\n",
    "]"
   ]
  },
  {
   "cell_type": "code",
   "execution_count": 62,
   "id": "52e3c8a4",
   "metadata": {},
   "outputs": [],
   "source": [
    "reasoning_keys = [\n",
    "    'reas3', 'trainreas3', 'reas7', 'trainreas7'\n",
    "]"
   ]
  },
  {
   "cell_type": "code",
   "execution_count": 63,
   "id": "77af3823",
   "metadata": {},
   "outputs": [
    {
     "name": "stdout",
     "output_type": "stream",
     "text": [
      "num_words F_onewayResult(statistic=1.132940473502349, pvalue=0.3228491315614238)\n",
      "pct_unique_words F_onewayResult(statistic=2.338759308869122, pvalue=0.09742346585550624)\n",
      "pct_tri_overlap F_onewayResult(statistic=0.6274088418521276, pvalue=0.5343624084124453)\n",
      "rouge-l-f F_onewayResult(statistic=1.2573715776907501, pvalue=0.28481540360478286)\n",
      "rouge-l-p F_onewayResult(statistic=2.729494016419706, pvalue=0.06570121375499259)\n"
     ]
    }
   ],
   "source": [
    "for cat in cats:\n",
    "    vals = []\n",
    "    for key in chapter_keys_3b:\n",
    "        aa = automated_metrics[(automated_metrics['key'] == key) & (automated_metrics['cat'] == cat)]\n",
    "        a = aa['val'].values\n",
    "        vals.append(list(a))\n",
    "    print(cat, f_oneway(*vals))"
   ]
  },
  {
   "cell_type": "code",
   "execution_count": 64,
   "id": "6df95d90",
   "metadata": {},
   "outputs": [
    {
     "name": "stdout",
     "output_type": "stream",
     "text": [
      "num_words F_onewayResult(statistic=1.1358047110545213, pvalue=0.3219295957847666)\n",
      "pct_unique_words F_onewayResult(statistic=2.507804585513545, pvalue=0.08239506361844508)\n",
      "pct_tri_overlap F_onewayResult(statistic=0.10851523073295723, pvalue=0.8971847893105264)\n",
      "rouge-l-f F_onewayResult(statistic=1.986163866356637, pvalue=0.13772033184956198)\n",
      "rouge-l-p F_onewayResult(statistic=7.298766909039793, pvalue=0.0007101635878570675)\n"
     ]
    }
   ],
   "source": [
    "for cat in cats:\n",
    "    vals = []\n",
    "    for key in chapter_keys_7b:\n",
    "        aa = automated_metrics[(automated_metrics['key'] == key) & (automated_metrics['cat'] == cat)]\n",
    "        a = aa['val'].values\n",
    "        vals.append(list(a))\n",
    "    print(cat, f_oneway(*vals))"
   ]
  },
  {
   "cell_type": "code",
   "execution_count": 65,
   "id": "9c2fb810",
   "metadata": {},
   "outputs": [
    {
     "name": "stdout",
     "output_type": "stream",
     "text": [
      "num_words F_onewayResult(statistic=1.132940473502349, pvalue=0.3228491315614238)\n",
      "pct_unique_words F_onewayResult(statistic=2.338759308869122, pvalue=0.09742346585550624)\n",
      "pct_tri_overlap F_onewayResult(statistic=0.6274088418521276, pvalue=0.5343624084124453)\n",
      "rouge-l-f F_onewayResult(statistic=1.2573715776907501, pvalue=0.28481540360478286)\n",
      "rouge-l-p F_onewayResult(statistic=2.729494016419706, pvalue=0.06570121375499259)\n"
     ]
    }
   ],
   "source": [
    "for cat in cats:\n",
    "    vals = []\n",
    "    for key in chapter_keys_3b:\n",
    "        aa = automated_metrics[(automated_metrics['key'] == key) & (automated_metrics['cat'] == cat)]\n",
    "        a = aa['val'].values\n",
    "        vals.append(list(a))\n",
    "    print(cat, f_oneway(*vals))"
   ]
  },
  {
   "cell_type": "markdown",
   "id": "f6582526",
   "metadata": {},
   "source": [
    "# Perplexity Correlation"
   ]
  },
  {
   "cell_type": "code",
   "execution_count": 111,
   "id": "b6aaf4c9",
   "metadata": {},
   "outputs": [],
   "source": [
    "syn_to_improvement = {}\n",
    "for syn, comp_to_ppl_data in syn_to_completion_to_ppl_qwen7B.items():\n",
    "    for comp, ppl_data in comp_to_ppl_data.items():\n",
    "        assert syn not in syn_to_improvement\n",
    "        syn_to_improvement[syn] = ppl_data['percent_improvement']\n",
    "        \n",
    "syn_to_improvement_trained = {}\n",
    "for syn, comp_to_ppl_data in syn_to_completion_to_ppl_qwen7B_trained.items():\n",
    "    for comp, ppl_data in comp_to_ppl_data.items():\n",
    "        assert syn not in syn_to_improvement_trained\n",
    "        syn_to_improvement_trained[syn] = ppl_data['percent_improvement']"
   ]
  },
  {
   "cell_type": "code",
   "execution_count": 112,
   "id": "4ebb8662",
   "metadata": {},
   "outputs": [
    {
     "data": {
      "text/plain": [
       "60"
      ]
     },
     "execution_count": 112,
     "metadata": {},
     "output_type": "execute_result"
    }
   ],
   "source": [
    "key = 'overall_quality'\n",
    "cur_options = ['base7b','same', 'other']\n",
    "df = all_7b[all_7b['options'].isin(['base7b,trained_7b', 'base7b,basewr_7b', 'basewr_7b,trained_7b'])]\n",
    "\n",
    "cats = []\n",
    "imps = []\n",
    "imp_bools = []\n",
    "for i, row in df.iterrows():\n",
    "    setting = row['options']\n",
    "    a, b = setting.split(\",\")\n",
    "    opts = [a, \"same\", b]\n",
    "    val = row[key]\n",
    "#     if val == b:\n",
    "# #         val = 'trained_7b' if 'trained' in setting else 'basewr_7b'\n",
    "#         val = 'other'\n",
    "    \n",
    "#     cat = cur_options.index(val)\n",
    "    cat = opts.index(val)\n",
    "    cats.append(cat)\n",
    "    \n",
    "    real = row['real_text']\n",
    "    first, second = real\n",
    "    fsyn, ftype, fgenres = text_to_syn_type_genre[first]\n",
    "    ssyn, stype, sgenres = text_to_syn_type_genre[second]\n",
    "    assert fgenres == sgenres\n",
    "    assert fsyn == ssyn\n",
    "    assert ftype != stype\n",
    "    seen_types = set(row[v] for v in votecols)\n",
    "    assert len(seen_types) <= 3\n",
    "    assert all(t in ['same', ftype, stype] for t in seen_types)\n",
    "    assert all(t in ['same', a, b] for t in seen_types)\n",
    "    \n",
    "    br_imp = syn_to_improvement[fsyn].item()\n",
    "    timp = syn_to_improvement_trained[fsyn].item()\n",
    "    \n",
    "    imp_diff = br_imp # base7b,basewr_7b\n",
    "    if 'basewr_7b' == a and b == 'trained_7b':\n",
    "        imp_diff = timp - br_imp\n",
    "    elif 'base7b' == a and b == 'trained_7b':\n",
    "        imp_diff = timp\n",
    "    elif 'base7b' == a and b == 'basewr_7b':\n",
    "        pass\n",
    "    else:\n",
    "        raise Exception(\"INVALID COMBINATION\")\n",
    "    \n",
    "    imps.append(imp_diff)\n",
    "len(cats)"
   ]
  },
  {
   "cell_type": "code",
   "execution_count": 113,
   "id": "7d8b7574",
   "metadata": {},
   "outputs": [
    {
     "data": {
      "text/plain": [
       "SignificanceResult(statistic=0.3258817301597572, pvalue=0.011055278814122951)"
      ]
     },
     "execution_count": 113,
     "metadata": {},
     "output_type": "execute_result"
    }
   ],
   "source": [
    "spearmanr(cats, imps)"
   ]
  },
  {
   "cell_type": "code",
   "execution_count": null,
   "id": "1996f68d",
   "metadata": {},
   "outputs": [],
   "source": []
  },
  {
   "cell_type": "code",
   "execution_count": 114,
   "id": "10093db7",
   "metadata": {},
   "outputs": [],
   "source": [
    "import seaborn as sns"
   ]
  },
  {
   "cell_type": "code",
   "execution_count": 115,
   "id": "8516c249",
   "metadata": {},
   "outputs": [],
   "source": [
    "tempdf = pd.DataFrame(data=[[c, i] for c, i in zip(cats, imps)], columns=['annot', 'imp'])"
   ]
  },
  {
   "cell_type": "code",
   "execution_count": null,
   "id": "b46a88d9",
   "metadata": {},
   "outputs": [],
   "source": []
  },
  {
   "cell_type": "markdown",
   "id": "a52f0c2f",
   "metadata": {},
   "source": [
    "# Fleiss Kappa 7B"
   ]
  },
  {
   "cell_type": "code",
   "execution_count": 122,
   "id": "e614d1c5",
   "metadata": {},
   "outputs": [],
   "source": [
    "from statsmodels.stats.inter_rater import fleiss_kappa"
   ]
  },
  {
   "cell_type": "code",
   "execution_count": 123,
   "id": "f2c35be8",
   "metadata": {},
   "outputs": [],
   "source": [
    "base_to_basewr7b = pd.read_csv(\"final_7bbase_basewr_annotations.csv\")"
   ]
  },
  {
   "cell_type": "code",
   "execution_count": 124,
   "id": "3c624bc5",
   "metadata": {},
   "outputs": [],
   "source": [
    "votecols = ['plot', 'character', 'creativity',\n",
    "       'development', 'language', 'overall_quality']"
   ]
  },
  {
   "cell_type": "code",
   "execution_count": 125,
   "id": "0df550ed",
   "metadata": {},
   "outputs": [],
   "source": [
    "t_cols = ['t_plot',\n",
    "       't_character', 't_creativity', 't_development', 't_language',\n",
    "       't_overall_quality', 't_optional_comments']"
   ]
  },
  {
   "cell_type": "code",
   "execution_count": 126,
   "id": "abc3a24e",
   "metadata": {},
   "outputs": [
    {
     "name": "stdout",
     "output_type": "stream",
     "text": [
      "plot 0.1795806745670011\n",
      "character 0.1021126760563379\n",
      "creativity 0.21807124239791476\n",
      "development 0.1863517060367455\n",
      "language 0.06011854360711254\n",
      "overall_quality 0.20975609756097566\n",
      "fake 0.19881305637982202\n"
     ]
    }
   ],
   "source": [
    "# try and recreate fleiss kappa from all_used\n",
    "# key = \"overall_quality\"\n",
    "for key in votecols + ['fake']:\n",
    "    titles = ['base7b', 'same', 'basewr_7b']\n",
    "    subject_category_counts = []\n",
    "    for t in base_to_basewr7b['text'].unique():\n",
    "        sub = base_to_basewr7b[base_to_basewr7b['text'] == t]\n",
    "        # sub has guaranteed 3 rows\n",
    "        assert len(sub) == 3\n",
    "#         if key == 'overall_quality':\n",
    "#             print(sub['text'].unique(), Counter(sub[key]))\n",
    "        counts = [0, 0, 0]\n",
    "        for i, row in sub.iterrows():\n",
    "#             if i == 25:\n",
    "#                 print(row)\n",
    "            vote = row[key]\n",
    "            index = titles.index(vote)\n",
    "            counts[index] += 1\n",
    "        subject_category_counts.append(counts)\n",
    "    print(key, fleiss_kappa(subject_category_counts))"
   ]
  },
  {
   "cell_type": "code",
   "execution_count": 127,
   "id": "4f3869aa",
   "metadata": {},
   "outputs": [],
   "source": [
    "raw_base_to_basewr7b = pd.read_csv(\"raw_7b_base_basewr.csv\")"
   ]
  },
  {
   "cell_type": "code",
   "execution_count": 128,
   "id": "877d03dd",
   "metadata": {},
   "outputs": [
    {
     "name": "stdout",
     "output_type": "stream",
     "text": [
      "['same', 'basewr_7b', 'base7b']\n",
      "['same', 'basewr_7b', 'base7b']\n",
      "['basewr_7b', 'same', 'base7b']\n",
      "['basewr_7b', 'base7b', 'same']\n",
      "['basewr_7b', 'same', 'base7b']\n",
      "['basewr_7b', 'same', 'base7b']\n",
      "['same', 'base7b', 'basewr_7b']\n",
      "['base7b', 'same', 'basewr_7b']\n",
      "['base7b', 'same', 'basewr_7b']\n",
      "['same', 'base7b', 'basewr_7b']\n",
      "['basewr_7b', 'base7b', 'same']\n",
      "['basewr_7b', 'base7b', 'same']\n",
      "['same', 'base7b', 'basewr_7b']\n",
      "['same', 'base7b', 'basewr_7b']\n"
     ]
    }
   ],
   "source": [
    "# try and recreate fleiss kappa from all_used\n",
    "# key = \"overall_quality\"\n",
    "titles = ['base7b', 'same', 'basewr_7b']\n",
    "new_data = []\n",
    "for t in base_to_basewr7b['text'].unique():\n",
    "    sub = base_to_basewr7b[base_to_basewr7b['text'] == t]\n",
    "    row = [t]\n",
    "    for key in votecols + ['fake']:\n",
    "        # sub has guaranteed 3 rows\n",
    "        assert len(sub) == 3\n",
    "        counts = [0, 0, 0]\n",
    "        votes = list(sub[key].values)\n",
    "        \n",
    "        most_common = Counter(votes).most_common(1)[0][0]\n",
    "#         if votes.count(most_common) == 1 and 'same' in votes:\n",
    "        if votes.count(most_common) == 1:\n",
    "            print(votes)\n",
    "            most_common = 'same' # break ties with same\n",
    "        row.append(most_common)\n",
    "    new_data.append(row)\n",
    "agreed_base_basewr7b = pd.DataFrame(data=new_data, columns=['text', *votecols, 'fake'])"
   ]
  },
  {
   "cell_type": "code",
   "execution_count": 129,
   "id": "651263b1",
   "metadata": {},
   "outputs": [],
   "source": [
    "raw_base_to_basewr7b_textid_to_text = {}\n",
    "for i, row in raw_base_to_basewr7b.iterrows():\n",
    "    if row['text'] in raw_base_to_basewr7b_textid_to_text:\n",
    "        assert row['real_text'] == raw_base_to_basewr7b_textid_to_text[row['text']]\n",
    "    raw_base_to_basewr7b_textid_to_text[row['text']] = row['real_text']"
   ]
  },
  {
   "cell_type": "code",
   "execution_count": 130,
   "id": "08bc1728",
   "metadata": {},
   "outputs": [],
   "source": [
    "agreed_base_basewr7b['real_text'] = [ast.literal_eval(raw_base_to_basewr7b_textid_to_text[t]) for t in agreed_base_basewr7b['text']]"
   ]
  },
  {
   "cell_type": "code",
   "execution_count": 131,
   "id": "0798227a",
   "metadata": {},
   "outputs": [],
   "source": [
    "agreed_base_basewr7b['options'] = ['base7b,basewr_7b' for i in range(len(agreed_base_basewr7b))]"
   ]
  },
  {
   "cell_type": "code",
   "execution_count": 132,
   "id": "85d3f66d",
   "metadata": {},
   "outputs": [],
   "source": [
    "# agreed_base_basewr7b.to_csv(\"agreed_base_basewr_7b.csv\", index=False)"
   ]
  },
  {
   "cell_type": "markdown",
   "id": "e17cbafb",
   "metadata": {},
   "source": [
    "## Dump"
   ]
  },
  {
   "cell_type": "code",
   "execution_count": 133,
   "id": "e694b601",
   "metadata": {},
   "outputs": [],
   "source": [
    "# old table"
   ]
  },
  {
   "cell_type": "markdown",
   "id": "4013c8e2",
   "metadata": {},
   "source": [
    "\\begin{table}[t]\n",
    "\\begin{center}\n",
    "\\small\n",
    "% \\begin{tabular}{lllllll}\n",
    "\\begin{tabular}{lcccc}\n",
    "\\toprule\n",
    "\\multicolumn{1}{c}{Genre}  & \\multicolumn{1}{c}{3B Win Rate} & \\multicolumn{1}{c}{3B Pref. Prob} & \\multicolumn{1}{c}{7B \\% Win Rate} & \\multicolumn{1}{c}{7B Pref. Pronn} \\\\\n",
    "\\midrule\n",
    "Scifi & 80\\% & \\textbf{80\\%} & 60\\% & 75.0\\% \\\\\n",
    "Fantasy & 60\\% & \\textbf{60\\%} & 50\\% & 55.6\\% \\\\\n",
    "Romance & 40\\% & 40\\% & 60\\% & \\textbf{75.0\\%} \\\\\n",
    "% Adult & 60\\% & 60\\% & 70\\% & \\textbf{77.8\\%} \\\\\n",
    "% YA & 40\\% & 40\\% & 60\\% & \\textbf{75.0\\%} \\\\\n",
    "Historical & 60\\% & 60\\% & 60\\% & \\textbf{60.0\\%} \\\\\n",
    "\\bottomrule\n",
    "\\end{tabular}\n",
    "\\end{center}\n",
    "\\caption{The win-rate ($\\frac{|\\text{br}|}{|\\text{br + b \n",
    " + same}}|$) and Bradley-Terry preference probability for Base-Reasoning vs Base, by 3B and 7B models and by genre. We find that including reasoning in Scifi significantly improves 3B performance, but that it may decrease performance in Romance books. In contrast, reasoning consistently helps the 7B model across genres with the most pronounced effect in Adult fiction. Note the win-rate percentage includes `same' annotations, while preference probabilities do not. Also note that these results are taken from a subset of the already-small test-set, so a few of these genres only apply to one book (and five annotations).}\\label{table:base_basewr_winrates_genre}\n",
    "\\end{table}"
   ]
  },
  {
   "cell_type": "code",
   "execution_count": null,
   "id": "cc781a04",
   "metadata": {},
   "outputs": [],
   "source": []
  },
  {
   "cell_type": "code",
   "execution_count": null,
   "id": "361978b7",
   "metadata": {},
   "outputs": [],
   "source": []
  }
 ],
 "metadata": {
  "kernelspec": {
   "display_name": "explorestorygen",
   "language": "python",
   "name": "explorestorygen"
  },
  "language_info": {
   "codemirror_mode": {
    "name": "ipython",
    "version": 3
   },
   "file_extension": ".py",
   "mimetype": "text/x-python",
   "name": "python",
   "nbconvert_exporter": "python",
   "pygments_lexer": "ipython3",
   "version": "3.10.13"
  }
 },
 "nbformat": 4,
 "nbformat_minor": 5
}
